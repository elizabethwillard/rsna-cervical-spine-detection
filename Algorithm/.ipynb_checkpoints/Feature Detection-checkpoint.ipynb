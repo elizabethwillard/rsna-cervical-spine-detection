{
 "cells": [
  {
   "cell_type": "code",
   "execution_count": 20,
   "id": "b7db5b46",
   "metadata": {},
   "outputs": [],
   "source": [
    "import numpy as np\n",
    "import pandas as pd\n",
    "import matplotlib.pyplot as plt"
   ]
  },
  {
   "cell_type": "code",
   "execution_count": 21,
   "id": "ef72ed94",
   "metadata": {},
   "outputs": [],
   "source": [
    "import os\n",
    "from glob import glob\n",
    "import timm"
   ]
  },
  {
   "cell_type": "code",
   "execution_count": 41,
   "id": "54606b3e",
   "metadata": {},
   "outputs": [],
   "source": [
    "import segmentation_models_pytorch as smp\n",
    "from pprint import pprint"
   ]
  },
  {
   "cell_type": "code",
   "execution_count": 23,
   "id": "b007308a-0f80-4c02-a51e-74570b6c86bb",
   "metadata": {
    "tags": []
   },
   "outputs": [],
   "source": [
    "import pylibjpeg\n",
    "import pydicom\n",
    "from tqdm import tqdm \n",
    "import albumentations\n",
    "import nibabel as nb"
   ]
  },
  {
   "cell_type": "code",
   "execution_count": 24,
   "id": "b8d778ca-0c1e-45ae-be73-429d7dc07698",
   "metadata": {
    "tags": []
   },
   "outputs": [],
   "source": [
    "import torch"
   ]
  },
  {
   "cell_type": "code",
   "execution_count": 33,
   "id": "3d55188c-ee2b-4115-ba7e-b4cac6b61605",
   "metadata": {
    "tags": []
   },
   "outputs": [
    {
     "data": {
      "text/plain": [
       "(2019, 9)"
      ]
     },
     "execution_count": 33,
     "metadata": {},
     "output_type": "execute_result"
    }
   ],
   "source": [
    "path = \"/mnt/d/rsna-2022-cervical-spine-fracture-detection\"\n",
    "train = pd.read_csv(f\"{path}/train.csv\")\n",
    "\n",
    "train.shape"
   ]
  },
  {
   "cell_type": "code",
   "execution_count": 34,
   "id": "25415a92-2fec-48a9-b603-4293905fd8c3",
   "metadata": {
    "tags": []
   },
   "outputs": [
    {
     "data": {
      "text/html": [
       "<div>\n",
       "<style scoped>\n",
       "    .dataframe tbody tr th:only-of-type {\n",
       "        vertical-align: middle;\n",
       "    }\n",
       "\n",
       "    .dataframe tbody tr th {\n",
       "        vertical-align: top;\n",
       "    }\n",
       "\n",
       "    .dataframe thead th {\n",
       "        text-align: right;\n",
       "    }\n",
       "</style>\n",
       "<table border=\"1\" class=\"dataframe\">\n",
       "  <thead>\n",
       "    <tr style=\"text-align: right;\">\n",
       "      <th></th>\n",
       "      <th>StudyInstanceUID</th>\n",
       "      <th>x</th>\n",
       "      <th>y</th>\n",
       "      <th>width</th>\n",
       "      <th>height</th>\n",
       "      <th>slice_number</th>\n",
       "    </tr>\n",
       "  </thead>\n",
       "  <tbody>\n",
       "    <tr>\n",
       "      <th>0</th>\n",
       "      <td>1.2.826.0.1.3680043.10051</td>\n",
       "      <td>219.27715</td>\n",
       "      <td>216.71419</td>\n",
       "      <td>17.30440</td>\n",
       "      <td>20.38517</td>\n",
       "      <td>133</td>\n",
       "    </tr>\n",
       "    <tr>\n",
       "      <th>1</th>\n",
       "      <td>1.2.826.0.1.3680043.10051</td>\n",
       "      <td>221.56460</td>\n",
       "      <td>216.71419</td>\n",
       "      <td>17.87844</td>\n",
       "      <td>25.24362</td>\n",
       "      <td>134</td>\n",
       "    </tr>\n",
       "    <tr>\n",
       "      <th>2</th>\n",
       "      <td>1.2.826.0.1.3680043.10051</td>\n",
       "      <td>216.82151</td>\n",
       "      <td>221.62546</td>\n",
       "      <td>27.00959</td>\n",
       "      <td>26.37454</td>\n",
       "      <td>135</td>\n",
       "    </tr>\n",
       "    <tr>\n",
       "      <th>3</th>\n",
       "      <td>1.2.826.0.1.3680043.10051</td>\n",
       "      <td>214.49455</td>\n",
       "      <td>215.48637</td>\n",
       "      <td>27.92726</td>\n",
       "      <td>37.51363</td>\n",
       "      <td>136</td>\n",
       "    </tr>\n",
       "    <tr>\n",
       "      <th>4</th>\n",
       "      <td>1.2.826.0.1.3680043.10051</td>\n",
       "      <td>214.00000</td>\n",
       "      <td>215.48637</td>\n",
       "      <td>27.00000</td>\n",
       "      <td>43.51363</td>\n",
       "      <td>137</td>\n",
       "    </tr>\n",
       "  </tbody>\n",
       "</table>\n",
       "</div>"
      ],
      "text/plain": [
       "            StudyInstanceUID          x          y     width    height  \\\n",
       "0  1.2.826.0.1.3680043.10051  219.27715  216.71419  17.30440  20.38517   \n",
       "1  1.2.826.0.1.3680043.10051  221.56460  216.71419  17.87844  25.24362   \n",
       "2  1.2.826.0.1.3680043.10051  216.82151  221.62546  27.00959  26.37454   \n",
       "3  1.2.826.0.1.3680043.10051  214.49455  215.48637  27.92726  37.51363   \n",
       "4  1.2.826.0.1.3680043.10051  214.00000  215.48637  27.00000  43.51363   \n",
       "\n",
       "   slice_number  \n",
       "0           133  \n",
       "1           134  \n",
       "2           135  \n",
       "3           136  \n",
       "4           137  "
      ]
     },
     "execution_count": 34,
     "metadata": {},
     "output_type": "execute_result"
    }
   ],
   "source": [
    "train_bb = pd.read_csv(f\"{path}/train_bounding_boxes.csv\")\n",
    "train_bb.head()\n"
   ]
  },
  {
   "cell_type": "code",
   "execution_count": 35,
   "id": "c7600f24-08a0-4850-ae96-5fff6c8f0c44",
   "metadata": {
    "tags": []
   },
   "outputs": [
    {
     "name": "stdout",
     "output_type": "stream",
     "text": [
      "(87, 2)\n"
     ]
    }
   ],
   "source": [
    "\n",
    "seg_paths = glob(f\"{path}/segmentations/*\")\n",
    "seg = pd.DataFrame({'path': seg_paths})\n",
    "seg['StudyInstanceUID'] = seg['path'].apply(lambda x:x.split('/')[-1][:-4])\n",
    "seg = seg[['StudyInstanceUID', 'path']]\n",
    "print(seg.shape)"
   ]
  },
  {
   "cell_type": "code",
   "execution_count": 36,
   "id": "407bcf49-18b4-485c-9d52-89f0056d6c40",
   "metadata": {
    "tags": []
   },
   "outputs": [],
   "source": [
    "def get_observation_data(path):\n",
    "    \n",
    "    dataset = pydicom.read_file(path)\n",
    "    meta_data = {\n",
    "        \"Rows\" : dataset.get(\"Rows\"),\n",
    "        \"Columns\" : dataset.get(\"Columns\"),        \n",
    "        \"SOPInstanceUID\" : dataset.get(\"SOPInstanceUID\"),\n",
    "        \"ContentDate\" : dataset.get(\"ContentDate\"),\n",
    "        \"SliceThickness\" : dataset.get(\"SliceThickness\"),\n",
    "        \"InstanceNumber\" : dataset.get(\"InstanceNumber\"),\n",
    "        \"ImagePositionPatient\" : dataset.get(\"ImagePositionPatient\"),\n",
    "        \"ImageOrientationPatient\" : dataset.get(\"ImageOrientationPatient\"),\n",
    "    }\n",
    "    str_columns = [\"SOPInstanceUID\", \"ContentDate\", \n",
    "                   \"SliceThickness\", \"InstanceNumber\"]\n",
    "    for k in str_columns:\n",
    "        meta_data[k] = str(dataset.get(k)) if k in dataset else None\n",
    "        \n",
    "        \n",
    "    return meta_data"
   ]
  },
  {
   "cell_type": "code",
   "execution_count": 42,
   "id": "62d67634-01b0-43c6-88f8-2623af7e753b",
   "metadata": {
    "jupyter": {
     "source_hidden": true
    },
    "tags": []
   },
   "outputs": [
    {
     "name": "stdout",
     "output_type": "stream",
     "text": [
      "{'Columns': 512,\n",
      " 'ContentDate': '20220727',\n",
      " 'ImageOrientationPatient': [1.000000, 0.000000, 0.000000, 0.000000, 1.000000, 0.000000],\n",
      " 'ImagePositionPatient': [-52.308, -27.712, -60.218],\n",
      " 'InstanceNumber': '109',\n",
      " 'Rows': 512,\n",
      " 'SOPInstanceUID': '1.2.826.0.1.3680043.10001.1.109',\n",
      " 'SliceThickness': '0.625000'}\n"
     ]
    }
   ],
   "source": [
    "ex_path = f\"{path}/train_images/1.2.826.0.1.3680043.10001/109.dcm\"\n",
    "example = get_observation_data(ex_path)\n",
    "pprint(example)"
   ]
  },
  {
   "cell_type": "code",
   "execution_count": 43,
   "id": "86c76bea-c21e-42bb-9295-524de6448e9c",
   "metadata": {
    "tags": []
   },
   "outputs": [
    {
     "name": "stderr",
     "output_type": "stream",
     "text": [
      "100%|███████████████████████████████████████████████████████████████████████████████████████████████| 2019/2019 [3:27:55<00:00,  6.18s/it]\n"
     ]
    }
   ],
   "source": [
    "dicom_train = []\n",
    "for file in tqdm(range(len(train))):\n",
    "    \n",
    "    dt = train.iloc[file, :]\n",
    "    \n",
    "    dcm = glob(f\"{path}/train_images/{dt.StudyInstanceUID}/*\")\n",
    "    for dcm_path in dcm:\n",
    "        try:\n",
    "            meta_data = get_observation_data(dcm_path)\n",
    "            dicom_train.append(meta_data)\n",
    "        except:\n",
    "            continue\n",
    "    # Convert into df\n",
    "    meta_train_data = pd.DataFrame(data=dicom_train, columns=example.keys())\n",
    "    # Export information\n",
    "    meta_train_data.to_csv(\"meta_train.csv\", index=False)\n",
    "            \n"
   ]
  },
  {
   "cell_type": "code",
   "execution_count": 47,
   "id": "e7913f19-1736-4cf9-8826-4c65212076be",
   "metadata": {},
   "outputs": [
    {
     "data": {
      "text/plain": [
       "711104"
      ]
     },
     "execution_count": 47,
     "metadata": {},
     "output_type": "execute_result"
    }
   ],
   "source": [
    "#Create csv of train.csv for segmentation data so you have meta data on those files \n",
    "(meta_train_data['SOPInstanceUID'].nunique())"
   ]
  },
  {
   "cell_type": "markdown",
   "id": "4300234f-2bf8-4cde-85bd-10de9b5cdbb0",
   "metadata": {},
   "source": [
    "https://www.kaggle.com/code/raddar/convert-dicom-to-np-array-the-correct-way\n",
    "\n"
   ]
  },
  {
   "cell_type": "code",
   "execution_count": null,
   "id": "eef3665b-fefa-456b-8e42-4d9748a50a12",
   "metadata": {},
   "outputs": [],
   "source": []
  }
 ],
 "metadata": {
  "kernelspec": {
   "display_name": "RSNA",
   "language": "python",
   "name": "rsna"
  },
  "language_info": {
   "codemirror_mode": {
    "name": "ipython",
    "version": 3
   },
   "file_extension": ".py",
   "mimetype": "text/x-python",
   "name": "python",
   "nbconvert_exporter": "python",
   "pygments_lexer": "ipython3",
   "version": "3.11.3"
  }
 },
 "nbformat": 4,
 "nbformat_minor": 5
}
